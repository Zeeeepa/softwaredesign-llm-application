{
 "cells": [
  {
   "cell_type": "code",
   "execution_count": 20,
   "id": "initial_id",
   "metadata": {
    "collapsed": true,
    "ExecuteTime": {
     "end_time": "2024-01-17T03:46:18.448281Z",
     "start_time": "2024-01-17T03:46:17.328462Z"
    }
   },
   "outputs": [
    {
     "name": "stdout",
     "output_type": "stream",
     "text": [
      "癒し, 愛情, 遊び\n"
     ]
    }
   ],
   "source": [
    "from langchain_openai import ChatOpenAI\n",
    "from langchain_core.prompts import ChatPromptTemplate\n",
    "from langchain_core.output_parsers import StrOutputParser\n",
    "from langchain_core.runnables import RunnablePassthrough\n",
    "\n",
    "def generate_keywords_chain(count = 3):\n",
    "    context = {\n",
    "        \"topic\": RunnablePassthrough(),\n",
    "        \"num\": lambda x: count\n",
    "    }\n",
    "    prompt = ChatPromptTemplate.from_messages([\n",
    "        (\"system\",\n",
    "         \"You are an AI that returns {num} elements for things associated with topic. The elements MUST be in Japanese and MUST be returned in a comma-separated format that can be parsed as a CSV.\"),\n",
    "        (\"human\", \"{topic}\")\n",
    "    ])\n",
    "    model = ChatOpenAI(model=\"gpt-3.5-turbo\")\n",
    "    return context | prompt | model | StrOutputParser()\n",
    "\n",
    "\n",
    "keywords = generate_keywords_chain().invoke(\"猫のいる暮らし\")\n",
    "print(keywords)"
   ]
  },
  {
   "cell_type": "code",
   "outputs": [
    {
     "data": {
      "text/plain": "'ビジネスプラン：癒しと愛情をテーマにした遊びの場を提供します。場所は自然豊かな場所に設け、様々な癒しのアクティビティや体験を提供します。例えば、ヨガやマッサージ、アロマテラピーなどのセッションを開催し、リラックスや心地よさを提供します。また、動物と触れ合えるエリアや、植物の世話やガーデニングができる場所も設けます。さらに、愛情を大切にするため、コミュニティイベントやワークショップを定期的に開催し、人々がつながりを深める機会を提供します。このビジネスは、ストレス社会で求められる癒しや愛情を提供することで、人々の心と健康に貢献します。'"
     },
     "execution_count": 21,
     "metadata": {},
     "output_type": "execute_result"
    }
   ],
   "source": [
    "def generate_business_plan_chain():\n",
    "    context = {\n",
    "        \"keywords\": RunnablePassthrough()\n",
    "    }\n",
    "    prompt = ChatPromptTemplate.from_messages([\n",
    "        (\"system\",\n",
    "         \"You are an AI that returns business plan within 100 words. The ideas MUST be in Japanese.\"),\n",
    "        (\"human\", \"{keywords}\")\n",
    "    ])\n",
    "    model = ChatOpenAI(model=\"gpt-3.5-turbo\")\n",
    "    return context | prompt | model | StrOutputParser()\n",
    "\n",
    "\n",
    "generate_business_plan_chain().invoke(keywords)"
   ],
   "metadata": {
    "collapsed": false,
    "ExecuteTime": {
     "end_time": "2024-01-17T03:46:54.165022Z",
     "start_time": "2024-01-17T03:46:41.020197Z"
    }
   },
   "id": "c991c5fba520565",
   "execution_count": 21
  },
  {
   "cell_type": "code",
   "outputs": [
    {
     "data": {
      "text/plain": "'ビジネスプラン：癒し効果のある商品やサービスの提供\\n\\nこのビジネスプランでは、癒し効果を持つ商品やサービスを提供することを目指します。心の安定を促し、癒しを提供することにより、顧客のストレスや疲労を軽減します。例えば、アロマテラピー商品やマッサージサービス、リラクゼーションスペースの提供などが考えられます。また、癒し効果を科学的に証明する研究や情報提供も行います。顧客の健康と幸福を追求し、癒しの需要が高まる現代社会において、このビジネスは成功の可能性があります。'"
     },
     "execution_count": 23,
     "metadata": {},
     "output_type": "execute_result"
    }
   ],
   "source": [
    "business_plan_chain = (generate_keywords_chain() | generate_business_plan_chain())\n",
    "business_plan_chain.invoke(\"猫のいる暮らし\")"
   ],
   "metadata": {
    "collapsed": false,
    "ExecuteTime": {
     "end_time": "2024-01-17T03:48:44.519796Z",
     "start_time": "2024-01-17T03:48:32.481082Z"
    }
   },
   "id": "918a1ce47dc46f9e",
   "execution_count": 23
  },
  {
   "cell_type": "code",
   "outputs": [
    {
     "name": "stdout",
     "output_type": "stream",
     "text": [
      "ビジネスプラン：「癒しと可愛さを提供する忠実なサービス」\n",
      "このビジネスプランは、人々に癒しと可愛さを提供することを目的とした忠実なサービスを提供します。私たちは、癒し効果のある施術やリラクゼーションサービスを提供し、また、可愛らしいアイテムや商品を販売します。また、忠実な顧客を獲得するために、会員制度や特典プログラムを導入します。私たちのビジネスは、ストレスや疲労に悩む人々に癒しと笑顔を提供し、幸福感を向上させることを目指します。"
     ]
    }
   ],
   "source": [
    "for chunk in business_plan_chain.stream(\"猫のいる暮らし\"):\n",
    "    print(chunk, end=\"\", flush=True)"
   ],
   "metadata": {
    "collapsed": false,
    "ExecuteTime": {
     "end_time": "2024-01-17T03:49:40.245533Z",
     "start_time": "2024-01-17T03:49:28.734244Z"
    }
   },
   "id": "ec577b29a43dc513",
   "execution_count": 25
  },
  {
   "cell_type": "code",
   "outputs": [],
   "source": [
    "from langchain_core.prompts import ChatPromptTemplate\n",
    "from langchain_core.output_parsers import StrOutputParser\n",
    "from langchain_core.runnables import RunnablePassthrough\n",
    "from langchain_core.runnables import RunnableParallel\n",
    "from langchain_openai import ChatOpenAI\n",
    "\n",
    "context = RunnableParallel({\n",
    "    \"content\": RunnablePassthrough(),\n",
    "})\n",
    "prompt = ChatPromptTemplate.from_messages([\n",
    "    (\"human\", \"{content}\")\n",
    "])\n",
    "model = ChatOpenAI(model=\"gpt-3.5-turbo\")"
   ],
   "metadata": {
    "collapsed": false,
    "ExecuteTime": {
     "end_time": "2024-01-17T08:58:28.921706Z",
     "start_time": "2024-01-17T08:58:28.886790Z"
    }
   },
   "id": "cb292cf662b51743",
   "execution_count": 31
  },
  {
   "cell_type": "code",
   "outputs": [
    {
     "data": {
      "text/plain": "{'content': 'LLMへのインプット'}"
     },
     "execution_count": 32,
     "metadata": {},
     "output_type": "execute_result"
    }
   ],
   "source": [
    "context.invoke(\"LLMへのインプット\")"
   ],
   "metadata": {
    "collapsed": false,
    "ExecuteTime": {
     "end_time": "2024-01-17T09:09:13.147020Z",
     "start_time": "2024-01-17T09:09:13.137653Z"
    }
   },
   "id": "abc60eeb41e163d2",
   "execution_count": 32
  },
  {
   "cell_type": "code",
   "outputs": [
    {
     "data": {
      "text/plain": "ChatPromptValue(messages=[HumanMessage(content='LLMへのインプット')])"
     },
     "execution_count": 30,
     "metadata": {},
     "output_type": "execute_result"
    }
   ],
   "source": [
    "(context | prompt).invoke(\"LLMへのインプット\")"
   ],
   "metadata": {
    "collapsed": false,
    "ExecuteTime": {
     "end_time": "2024-01-17T08:55:32.222958Z",
     "start_time": "2024-01-17T08:55:32.205028Z"
    }
   },
   "id": "62e211e0a5673e2f",
   "execution_count": 30
  },
  {
   "cell_type": "code",
   "outputs": [
    {
     "data": {
      "text/plain": "AIMessage(content='LLMは法学修士のことであり、法律に関する高度な知識と専門的なスキルを身につけるための学位です。LLMへのインプットとは、LLMプログラムで学ぶために必要な情報や知識を取り入れることを指します。\\n\\nLLMへのインプットには以下のような要素が含まれます：\\n\\n1. 法律の基礎知識の習得：法学の基本的な原則や法的概念についての理解を深めることが重要です。これには、憲法、刑法、民法、商法などの法律分野に関する基礎知識の修得が含まれます。\\n\\n2. 専門分野の知識の習得：LLMプログラムでは、特定の法的分野に特化した知識を深めることができます。例えば、国際法、商業法、知的財産法、労働法などの専門分野についての情報を収集し、理解することが求められます。\\n\\n3. 最新の法律動向の把握：法律は常に変化しており、新たな判例や法律が登場することがあります。LLMプログラムでは、最新の法律動向を追いかけることが重要です。これには、法学の学術誌や専門的な出版物の読書、法律ニュースの追跡などが含まれます。\\n\\n4. 法律研究のスキルの習得：LLMプログラムでは、独自の法律研究を行う機会が与えられます。このためには、適切な研究方法や資料の収集・分析方法の習得が必要です。また、論文やレポートの書き方についても学ぶことが求められます。\\n\\n5. コミュニケーション能力の向上：LLMプログラムでは、法的な議論やディスカッションに参加する機会が与えられます。そのため、適切なコミュニケーション能力を身につけることが重要です。これには、論理的な思考や説得力のある表現力を養うことが含まれます。\\n\\nLLMへのインプットは、個々の学生によって異なる場合があります。それぞれの学生は、自身の興味やキャリア目標に応じて、適切な情報や知識を取り入れる必要があります。')"
     },
     "execution_count": 34,
     "metadata": {},
     "output_type": "execute_result"
    }
   ],
   "source": [
    "(context | prompt | model).invoke(\"LLMへのインプット\")"
   ],
   "metadata": {
    "collapsed": false,
    "ExecuteTime": {
     "end_time": "2024-01-17T09:28:45.755664Z",
     "start_time": "2024-01-17T09:28:06.088604Z"
    }
   },
   "id": "16b3db3d80ccadf8",
   "execution_count": 34
  },
  {
   "cell_type": "code",
   "outputs": [
    {
     "data": {
      "text/plain": "'LLM（Master of Laws）へのインプットは、法律の知識やスキルを深めるための学習や経験を指します。具体的なインプット方法は個人の目標や興味によって異なりますが、一般的なインプット方法として以下のようなものがあります。\\n\\n1. 法学の授業や研究：LLMプログラムに参加して、法学の授業を受けたり、研究を行ったりします。これによって、法律の理論や実務に関する知識を習得することができます。\\n\\n2. 実務経験：法律事務所や企業の法務部門でのインターンシップや実務経験を積むこともLLMへのインプットになります。実務経験を通じて、実際の案件に関わる機会や法律の実践的なスキルを身につけることができます。\\n\\n3. 研究論文の執筆：LLMプログラムでは、研究論文の執筆を求められることがあります。研究論文の執筆を通じて、特定の法律分野における深い知識を獲得し、研究能力を向上させることができます。\\n\\n4. セミナーやカンファレンスへの参加：法律に関連するセミナーやカンファレンスに参加することもLLMへのインプットになります。これによって、最新の法律動向や研究成果を知ることができます。\\n\\n5. 専門書や論文の読書：法律に関連する専門書や論文を読むことも重要です。これによって、自分が興味を持つ特定の法律分野についての知識を深めることができます。\\n\\nLLMへのインプットは、自己学習や他者とのディスカッション、実践的な経験を通じて行われます。個々の目標や興味に合わせて、バランスの取れた学習プランを立てることが重要です。'"
     },
     "execution_count": 35,
     "metadata": {},
     "output_type": "execute_result"
    }
   ],
   "source": [
    "(context | prompt | model | StrOutputParser()).invoke(\"LLMへのインプット\")"
   ],
   "metadata": {
    "collapsed": false,
    "ExecuteTime": {
     "end_time": "2024-01-17T09:35:16.958854Z",
     "start_time": "2024-01-17T09:34:37.486297Z"
    }
   },
   "id": "dc46476827f8397f",
   "execution_count": 35
  },
  {
   "cell_type": "code",
   "outputs": [
    {
     "data": {
      "text/plain": "'LLM（Master of Laws）へのインプットは、法律（以下省略）'"
     },
     "execution_count": 36,
     "metadata": {},
     "output_type": "execute_result"
    }
   ],
   "source": [
    "from langchain_core.messages import AIMessage\n",
    "\n",
    "def truncate_parser(message: AIMessage) -> str:\n",
    "    return f\"{message.content[:30]}（以下省略）\"\n",
    "\n",
    "(context | prompt | model | truncate_parser).invoke(\"LLMへのインプット\")"
   ],
   "metadata": {
    "collapsed": false,
    "ExecuteTime": {
     "end_time": "2024-01-17T09:39:50.733408Z",
     "start_time": "2024-01-17T09:39:21.628286Z"
    }
   },
   "id": "7a1c94a4049ba5a9",
   "execution_count": 36
  },
  {
   "cell_type": "code",
   "outputs": [
    {
     "name": "stdout",
     "output_type": "stream",
     "text": [
      "+------------------------+   \n",
      "| Parallel<content>Input |   \n",
      "+------------------------+   \n",
      "              *              \n",
      "              *              \n",
      "              *              \n",
      "      +-------------+        \n",
      "      | Passthrough |        \n",
      "      +-------------+        \n",
      "              *              \n",
      "              *              \n",
      "              *              \n",
      "  +--------------------+     \n",
      "  | ChatPromptTemplate |     \n",
      "  +--------------------+     \n",
      "              *              \n",
      "              *              \n",
      "              *              \n",
      "      +------------+         \n",
      "      | ChatOpenAI |         \n",
      "      +------------+         \n",
      "              *              \n",
      "              *              \n",
      "              *              \n",
      "+-------------------------+  \n",
      "| Lambda(truncate_parser) |  \n",
      "+-------------------------+  \n",
      "              *              \n",
      "              *              \n",
      "              *              \n",
      "+------------------------+   \n",
      "| truncate_parser_output |   \n",
      "+------------------------+   \n"
     ]
    }
   ],
   "source": [
    "(context | prompt | model | truncate_parser).get_graph().print_ascii()"
   ],
   "metadata": {
    "collapsed": false,
    "ExecuteTime": {
     "end_time": "2024-01-17T09:41:09.653992Z",
     "start_time": "2024-01-17T09:41:09.644884Z"
    }
   },
   "id": "d83784d76d54d5ae",
   "execution_count": 38
  }
 ],
 "metadata": {
  "kernelspec": {
   "display_name": "Python 3",
   "language": "python",
   "name": "python3"
  },
  "language_info": {
   "codemirror_mode": {
    "name": "ipython",
    "version": 2
   },
   "file_extension": ".py",
   "mimetype": "text/x-python",
   "name": "python",
   "nbconvert_exporter": "python",
   "pygments_lexer": "ipython2",
   "version": "2.7.6"
  }
 },
 "nbformat": 4,
 "nbformat_minor": 5
}
