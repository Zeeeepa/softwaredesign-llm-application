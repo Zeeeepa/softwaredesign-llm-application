{
 "cells": [
  {
   "cell_type": "code",
   "execution_count": 16,
   "id": "initial_id",
   "metadata": {
    "collapsed": true,
    "ExecuteTime": {
     "end_time": "2024-01-17T03:07:55.798673Z",
     "start_time": "2024-01-17T03:07:54.407588Z"
    }
   },
   "outputs": [
    {
     "name": "stdout",
     "output_type": "stream",
     "text": [
      "犬,わんちゃん,ドッグパーク\n"
     ]
    }
   ],
   "source": [
    "from langchain_openai import ChatOpenAI\n",
    "from langchain_core.prompts import ChatPromptTemplate\n",
    "\n",
    "def generate_keywords_chain(topic, num):\n",
    "    prompt = ChatPromptTemplate.from_messages([\n",
    "        (\"system\",\n",
    "         \"You are an AI that returns {num} elements for things associated with topic. The elements MUST be in Japanese and MUST be returned in a comma-separated format that can be parsed as a CSV.\"),\n",
    "        (\"human\", \"{topic}\")\n",
    "        ])\n",
    "    model = ChatOpenAI(model=\"gpt-3.5-turbo\")\n",
    "    return model.invoke(prompt.invoke({\"topic\": topic, 'num': num}))\n",
    "\n",
    "result = generate_keywords_chain(\"dog\", 3)\n",
    "print(result.content)"
   ]
  },
  {
   "cell_type": "code",
   "outputs": [
    {
     "name": "stdout",
     "output_type": "stream",
     "text": [
      "ビジネスプラン：犬のためのドッグパークを作りましょう。このドッグパークは、わんちゃんを飼っている人々にとっての憩いの場となります。パーク内には広い敷地を確保し、さまざまな遊び場や障害物を設置します。また、専門のトレーナーが常駐し、わんちゃんたちの訓練やトリックの指導を行います。さらに、ドッグカフェやショップも併設し、飼い主たちがくつろぎながらわんちゃん用品を購入できるようにします。このビジネスは、犬を飼っている人々の需要に応え、彼らのコミュニティをサポートします。\n"
     ]
    }
   ],
   "source": [
    "def generate_business_plan_chain(ideas):\n",
    "    prompt = ChatPromptTemplate.from_messages([\n",
    "        (\"system\",\n",
    "         \"You are an AI that returns business plan within 100 words. The ideas MUST be in Japanese.\"),\n",
    "        (\"human\", \"{ideas}\")\n",
    "        ])\n",
    "    model = ChatOpenAI(model=\"gpt-3.5-turbo\")\n",
    "    return model.invoke(prompt.invoke({\"ideas\": ideas}))\n",
    "\n",
    "print(generate_business_plan_chain(result.content).content)"
   ],
   "metadata": {
    "collapsed": false,
    "ExecuteTime": {
     "end_time": "2024-01-17T03:22:12.080727Z",
     "start_time": "2024-01-17T03:22:00.535693Z"
    }
   },
   "id": "ad9a79559b59d9cc",
   "execution_count": 20
  }
 ],
 "metadata": {
  "kernelspec": {
   "display_name": "Python 3",
   "language": "python",
   "name": "python3"
  },
  "language_info": {
   "codemirror_mode": {
    "name": "ipython",
    "version": 2
   },
   "file_extension": ".py",
   "mimetype": "text/x-python",
   "name": "python",
   "nbconvert_exporter": "python",
   "pygments_lexer": "ipython2",
   "version": "2.7.6"
  }
 },
 "nbformat": 4,
 "nbformat_minor": 5
}
